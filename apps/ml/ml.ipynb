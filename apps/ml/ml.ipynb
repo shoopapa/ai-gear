{
 "cells": [
  {
   "cell_type": "code",
   "execution_count": 260,
   "metadata": {},
   "outputs": [
    {
     "name": "stdout",
     "output_type": "stream",
     "text": [
      "Down Up 87 87\n",
      "Down Up 78 78\n",
      "Down Up 72 72\n",
      "Down Up 84 84\n",
      "Down Up 72 72\n",
      "Down Up 96 96\n",
      "Down Up 78 78\n",
      "Down Up 96 96\n",
      "Square 134 134\n",
      "Square 129 129\n",
      "Square 119 119\n",
      "Square 125 125\n",
      "Square 171 171\n",
      "Circle 77 77\n",
      "Square 113 113\n",
      "Square 132 132\n",
      "Square 149 149\n",
      "Circle 95 95\n",
      "Circle 74 74\n",
      "Circle 72 72\n",
      "Circle 71 71\n",
      "Circle 72 72\n",
      "Circle 66 66\n",
      "Up Down 78 78\n",
      "Up Down 84 84\n",
      "Circle 105 105\n",
      "Circle 74 74\n",
      "Up Down 66 66\n",
      "Up Down 86 86\n",
      "Up Down 84 84\n",
      "Up Down 86 86\n",
      "Up Down 98 98\n",
      "Up Down 167 167\n"
     ]
    }
   ],
   "source": [
    "from prisma import Prisma\n",
    "import numpy as np\n",
    "db = Prisma()\n",
    "db.connect()\n",
    "\n",
    "sessions = db.session.find_many(\n",
    "  where={\n",
    "    'OR': [\n",
    "      {'moveId': 'cllsr98nl0000m3wg0pqpvjuy'},\n",
    "      {'moveId': 'cllsr98nn0002m3wg3l6nbb5l'},\n",
    "      {'moveId': 'cllsr98nn0004m3wgcm0bpdta'},\n",
    "      {'moveId': 'cllsr98no0006m3wgbau6ed9q'},\n",
    "    ]\n",
    "  },\n",
    "      # 'moveId': ['cllsr98nl0000m3wg0pqpvjuy','cllsr98nn0002m3wg3l6nbb5l']\n",
    "  include={\n",
    "    'move':True\n",
    "  }\n",
    ")\n",
    "sessions[:] = [i for i in sessions if len(i.dict()['accelerationX']) == len(i.dict()['gyroX'])]\n",
    "len(sessions)\n",
    "for s in sessions: \n",
    "  print(s.dict()['move']['name'], len(s.dict()['gyroX']), len(s.dict()['accelerationX']))\n",
    "\n",
    "\n",
    "db.disconnect()\n"
   ]
  },
  {
   "cell_type": "code",
   "execution_count": 261,
   "metadata": {},
   "outputs": [
    {
     "data": {
      "text/plain": [
       "{'Down Up': 0, 'Square': 1, 'Circle': 2, 'Up Down': 3}"
      ]
     },
     "execution_count": 261,
     "metadata": {},
     "output_type": "execute_result"
    }
   ],
   "source": [
    "import pandas\n",
    "\n",
    "data_columns = ['gyroX','gyroY','gyroZ','accelerationX','accelerationY','accelerationZ']\n",
    "\n",
    "def prep_sessions(sessions,data_columns):\n",
    "  #convert each session to a an array of just the data\n",
    "  dfs = []\n",
    "  for s in sessions:\n",
    "    # extract out just data_columns keys from s\n",
    "    d = {}\n",
    "    for k, v in s:\n",
    "      if k in data_columns:\n",
    "        d[k] = s.dict()[k]\n",
    "        \n",
    "    df = pandas.DataFrame(d)[data_columns]\n",
    "    np_array = df.to_numpy().astype(float)\n",
    "    dfs.append(np_array)\n",
    "  \n",
    "  return dfs\n",
    "\n",
    "def generate_labels_from_sessions(sessions):\n",
    "  names = []\n",
    "  for s in sessions:\n",
    "    names.append(s.dict()['move']['name'])\n",
    "  \n",
    "  # convert names to list of numbers, kinda like an enum, each uniqe string becomes a nubmer\n",
    "  labels_key = {}\n",
    "  v = -1\n",
    "  labels = []\n",
    "  for n in names:\n",
    "    if n not in labels_key:\n",
    "      v += 1\n",
    "      labels_key[n] = v\n",
    "    labels.append(labels_key[n])\n",
    "    \n",
    "  return labels, labels_key\n",
    "\n",
    "def vertically_scale_array(original_array):\n",
    "  # scale it up vertically\n",
    "  original_shape = original_array.shape\n",
    "  target_shape = (200, original_shape[1])\n",
    "\n",
    "  # Generate indices for original and target arrays\n",
    "  original_indices = np.arange(original_shape[0])\n",
    "  target_indices = np.linspace(0, original_shape[0] - 1, target_shape[0])\n",
    "\n",
    "  scaled_up_array = np.empty(target_shape)\n",
    "\n",
    "  for col in range(original_shape[1]):\n",
    "    scaled_up_array[:, col] = np.interp(target_indices, original_indices, original_array[:, col])\n",
    "      \n",
    "  return scaled_up_array\n",
    "\n",
    "\n",
    "session_arrays = prep_sessions(sessions, data_columns)\n",
    "normalized_session_arrays = [vertically_scale_array(s) for s in session_arrays]\n",
    "labels, labels_key = generate_labels_from_sessions(sessions)\n",
    "labels_key\n",
    " "
   ]
  },
  {
   "cell_type": "code",
   "execution_count": 215,
   "metadata": {},
   "outputs": [
    {
     "name": "stdout",
     "output_type": "stream",
     "text": [
      "33\n",
      "[0, 0, 0, 0, 0, 0, 0, 0, 1, 1, 1, 1, 1, 2, 1, 1, 1, 2, 2, 2, 2, 2, 2, 3, 3, 2, 2, 3, 3, 3, 3, 3, 3]\n",
      "Epoch 1/10\n"
     ]
    },
    {
     "name": "stdout",
     "output_type": "stream",
     "text": [
      "2/2 [==============================] - 1s 47ms/step - loss: 5.5150 - accuracy: 0.3636\n",
      "Epoch 2/10\n",
      "2/2 [==============================] - 0s 42ms/step - loss: 13.2549 - accuracy: 0.8182\n",
      "Epoch 3/10\n",
      "2/2 [==============================] - 0s 49ms/step - loss: 1.7315 - accuracy: 0.9394\n",
      "Epoch 4/10\n",
      "2/2 [==============================] - 0s 46ms/step - loss: 0.0000e+00 - accuracy: 1.0000\n",
      "Epoch 5/10\n",
      "2/2 [==============================] - 0s 45ms/step - loss: 0.0000e+00 - accuracy: 1.0000\n",
      "Epoch 6/10\n",
      "2/2 [==============================] - 0s 40ms/step - loss: 0.0000e+00 - accuracy: 1.0000\n",
      "Epoch 7/10\n",
      "2/2 [==============================] - 0s 43ms/step - loss: 0.0000e+00 - accuracy: 1.0000\n",
      "Epoch 8/10\n",
      "2/2 [==============================] - 0s 63ms/step - loss: 0.0000e+00 - accuracy: 1.0000\n",
      "Epoch 9/10\n",
      "2/2 [==============================] - 0s 46ms/step - loss: 0.0000e+00 - accuracy: 1.0000\n",
      "Epoch 10/10\n",
      "2/2 [==============================] - 0s 53ms/step - loss: 0.0000e+00 - accuracy: 1.0000\n"
     ]
    },
    {
     "data": {
      "text/plain": [
       "<keras.src.callbacks.History at 0x139e8d2d0>"
      ]
     },
     "execution_count": 215,
     "metadata": {},
     "output_type": "execute_result"
    }
   ],
   "source": [
    "import tensorflow as tf\n",
    "from tensorflow.keras import layers\n",
    "\n",
    "# Stack the arrays\n",
    "data = np.stack(normalized_session_arrays)  # 33 arrays of shape (200, 6)\n",
    "labels = np.array(labels)  # 33 labels\n",
    "\n",
    "model = models.Sequential()\n",
    "model.add(layers.Input(shape=(200, 6)))  # Input layer\n",
    "\n",
    "# Add some layers (adjust as needed)\n",
    "model.add(layers.Flatten())\n",
    "model.add(layers.Dense(128, activation='relu'))\n",
    "model.add(layers.Dense(33, activation='softmax')) \n",
    "model.compile(optimizer='adam', loss='categorical_crossentropy', metrics=['accuracy'])\n",
    "\n",
    "model.fit(data, one_hot_labels, epochs=10, batch_size=32, validation_split=0.2)\n",
    "\n",
    "model.fit(x=data, y=labels, epochs=10)"
   ]
  },
  {
   "cell_type": "code",
   "execution_count": 255,
   "metadata": {},
   "outputs": [
    {
     "name": "stdout",
     "output_type": "stream",
     "text": [
      "Shoot In 93 93\n",
      "Shoot In 89 89\n",
      "Shoot In 99 99\n"
     ]
    }
   ],
   "source": [
    "db = Prisma()\n",
    "db.connect()\n",
    "\n",
    "sessions = db.session.find_many(\n",
    "  where={\n",
    "    'moveId': 'cllpzabyd0000m35m17byo2dp'\n",
    "  },\n",
    "  include={\n",
    "    'move':True\n",
    "  }\n",
    ")\n",
    "sessions[:] = [i for i in sessions if len(i.dict()['accelerationX']) == len(i.dict()['gyroX'])]\n",
    "len(sessions)\n",
    "for s in sessions: \n",
    "  print(s.dict()['move']['name'], len(s.dict()['gyroX']), len(s.dict()['accelerationX']))\n",
    "\n",
    "\n",
    "db.disconnect()"
   ]
  },
  {
   "cell_type": "code",
   "execution_count": 259,
   "metadata": {},
   "outputs": [
    {
     "name": "stdout",
     "output_type": "stream",
     "text": [
      "{'Down Up': 0, 'Square': 1, 'Circle': 2, 'Up Down': 3}\n"
     ]
    },
    {
     "data": {
      "text/plain": [
       "<tf.Tensor: shape=(1, 4), dtype=float32, numpy=array([[153.58553 , -48.847153, -45.16167 , -60.9632  ]], dtype=float32)>"
      ]
     },
     "execution_count": 259,
     "metadata": {},
     "output_type": "execute_result"
    }
   ],
   "source": [
    "session_arrays = prep_sessions(sessions, data_columns)\n",
    "normalized_session_arrays_test = [vertically_scale_array(s) for s in session_arrays]\n",
    "print(labels_key)\n",
    "model(np.array([normalized_session_arrays_test[2]]))"
   ]
  }
 ],
 "metadata": {
  "kernelspec": {
   "display_name": ".venv",
   "language": "python",
   "name": "python3"
  },
  "language_info": {
   "codemirror_mode": {
    "name": "ipython",
    "version": 3
   },
   "file_extension": ".py",
   "mimetype": "text/x-python",
   "name": "python",
   "nbconvert_exporter": "python",
   "pygments_lexer": "ipython3",
   "version": "3.10.5"
  },
  "orig_nbformat": 4
 },
 "nbformat": 4,
 "nbformat_minor": 2
}
